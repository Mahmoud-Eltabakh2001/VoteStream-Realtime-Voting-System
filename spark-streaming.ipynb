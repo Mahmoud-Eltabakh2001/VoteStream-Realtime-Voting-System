{
 "cells": [
  {
   "cell_type": "code",
   "execution_count": 1,
   "id": "59f76856-e054-4398-b5e0-47d42647a4f2",
   "metadata": {},
   "outputs": [],
   "source": [
    "from pyspark.sql import SparkSession\n",
    "from pyspark.sql.functions import from_json, col\n",
    "from pyspark.sql.functions import sum as _sum\n",
    "from pyspark.sql.types import StructType, StructField, StringType, IntegerType, TimestampType\n",
    "\n",
    "# import pyspark\n",
    "#\n",
    "# print(pyspark.__version__) # to check the version of pyspark\n",
    "import os"
   ]
  },
  {
   "cell_type": "code",
   "execution_count": 2,
   "id": "eeab2678-aa19-47b2-a330-6c4c3910b028",
   "metadata": {},
   "outputs": [],
   "source": [
    "spark=(\n",
    "        SparkSession\n",
    "        .builder\n",
    "        .appName(\"ElectionAnalysis\")\n",
    "        .config(\"spark.streaming.stopGracefullyOnShutdown\",True)\n",
    "        .config(\"spark.jars.packages\",\"org.apache.spark:spark-sql-kafka-0-10_2.12:3.3.0\")\n",
    "        .config(\"spark.jars\", \"/opt/spark/jars/postgresql-42.7.1.jar\")\n",
    "        .config(\"spark.sql.shuffle.partitions\",5)\n",
    "        .config(\"spark.sql.adaptive.enabled\", \"false\")\n",
    "        .master(\"local[*]\")\n",
    "        .getOrCreate()\n",
    ")"
   ]
  },
  {
   "cell_type": "code",
   "execution_count": 3,
   "id": "f9daa8f8-72bf-4783-9411-86938847e1d7",
   "metadata": {},
   "outputs": [],
   "source": [
    "vote_schema = StructType([\n",
    "        StructField(\"voter_id\", StringType(), True),\n",
    "        StructField(\"candidate_id\", StringType(), True),\n",
    "        StructField(\"voting_time\", TimestampType(), True),\n",
    "        StructField(\"voter_name\", StringType(), True),\n",
    "        StructField(\"party_affiliation\", StringType(), True),\n",
    "        StructField(\"biography\", StringType(), True),\n",
    "        StructField(\"campaign_platform\", StringType(), True),\n",
    "        StructField(\"photo_url\", StringType(), True),\n",
    "        StructField(\"candidate_name\", StringType(), True),\n",
    "        StructField(\"date_of_birth\", StringType(), True),\n",
    "        StructField(\"gender\", StringType(), True),\n",
    "        StructField(\"nationality\", StringType(), True),\n",
    "        StructField(\"registration_number\", StringType(), True),\n",
    "        StructField(\"address\", StructType([\n",
    "            StructField(\"street\", StringType(), True),\n",
    "            StructField(\"city\", StringType(), True),\n",
    "            StructField(\"state\", StringType(), True),\n",
    "            StructField(\"country\", StringType(), True),\n",
    "            StructField(\"postcode\", StringType(), True)\n",
    "        ]), True),\n",
    "        StructField(\"email\", StringType(), True),\n",
    "        StructField(\"phone_number\", StringType(), True),\n",
    "        StructField(\"cell_number\", StringType(), True),\n",
    "        StructField(\"picture\", StringType(), True),\n",
    "        StructField(\"registered_age\", IntegerType(), True),\n",
    "        StructField(\"vote\", IntegerType(), True)\n",
    "    ])"
   ]
  },
  {
   "cell_type": "code",
   "execution_count": 4,
   "id": "f0e686af-a75c-47b3-ab22-bd40c193989d",
   "metadata": {},
   "outputs": [],
   "source": [
    "votes_df = spark.readStream \\\n",
    "        .format(\"kafka\") \\\n",
    "        .option(\"kafka.bootstrap.servers\", \"ed-kafka:29092\") \\\n",
    "        .option(\"subscribe\", \"votes_topic\") \\\n",
    "        .option(\"failOnDataLoss\", \"false\") \\\n",
    "        .option(\"startingOffsets\", \"earliest\") \\\n",
    "        .load() \\\n",
    "        .selectExpr(\"CAST(value AS STRING)\") \\\n",
    "        .select(from_json(col(\"value\"), vote_schema).alias(\"data\")) \\\n",
    "        .select(\"data.*\")"
   ]
  },
  {
   "cell_type": "code",
   "execution_count": 5,
   "id": "c9c20d0f-ced8-40b7-bfa7-7dbd3b758738",
   "metadata": {},
   "outputs": [],
   "source": [
    "votes_df = votes_df.withColumn(\"voting_time\", col(\"voting_time\").cast(TimestampType())) \\\n",
    "        .withColumn('vote', col('vote').cast(IntegerType()))\n",
    "enriched_votes_df = votes_df.withWatermark(\"voting_time\", \"1 minute\")"
   ]
  },
  {
   "cell_type": "code",
   "execution_count": 6,
   "id": "a7daf32a-74e4-4ded-89eb-1c8f53b0b7d6",
   "metadata": {},
   "outputs": [],
   "source": [
    "votes_per_candidate = enriched_votes_df.groupBy(\"candidate_id\", \"candidate_name\", \"party_affiliation\",\n",
    "                                                    \"photo_url\").agg(_sum(\"vote\").alias(\"total_votes\"))\n",
    "turnout_by_location = enriched_votes_df.groupBy(\"address.state\").count().withColumnRenamed(\"count\", \"total_votes\")"
   ]
  },
  {
   "cell_type": "code",
   "execution_count": 7,
   "id": "66466433-95ae-4a3f-aa4e-9553750d526a",
   "metadata": {},
   "outputs": [],
   "source": [
    "votes_per_candidate_to_kafka = votes_per_candidate.selectExpr(\"to_json(struct(*)) AS value\") \\\n",
    "        .writeStream \\\n",
    "        .format(\"kafka\") \\\n",
    "        .option(\"kafka.bootstrap.servers\", \"ed-kafka:29092\") \\\n",
    "        .option(\"topic\", \"aggregated_votes_per_candidate\") \\\n",
    "        .option(\"checkpointLocation\", \"/app/checkpoints/checkpoint1\") \\\n",
    "        .outputMode(\"update\") \\\n",
    "        .start()"
   ]
  },
  {
   "cell_type": "code",
   "execution_count": 8,
   "id": "22631d4f-4a42-4bfe-b431-4a03245e6cee",
   "metadata": {},
   "outputs": [],
   "source": [
    "def write_to_postgres_candidate(batch_df, batch_id):\n",
    "        batch_df.write \\\n",
    "            .format(\"jdbc\") \\\n",
    "            .option(\"url\", \"jdbc:postgresql://ed-postgres:5432/voting_db\") \\\n",
    "            .option(\"dbtable\", \"votes_per_candidate\") \\\n",
    "            .option(\"user\", \"postgres\") \\\n",
    "            .option(\"password\", \"postgres\") \\\n",
    "            .option(\"driver\", \"org.postgresql.Driver\") \\\n",
    "            .mode(\"overwrite\") \\\n",
    "            .save()\n",
    "\n",
    "votes_per_candidate_to_postgres=votes_per_candidate \\\n",
    "        .writeStream \\\n",
    "        .outputMode(\"update\") \\\n",
    "        .foreachBatch(write_to_postgres_candidate) \\\n",
    "        .option(\"checkpointLocation\", \"/app/checkpoints/postgres_votes_candidates\") \\\n",
    "        .start()"
   ]
  },
  {
   "cell_type": "code",
   "execution_count": 9,
   "id": "0697f0d1-dd10-4e3d-9357-14834b76cb73",
   "metadata": {},
   "outputs": [],
   "source": [
    "turnout_by_location_to_kafka = turnout_by_location.selectExpr(\"to_json(struct(*)) AS value\") \\\n",
    "        .writeStream \\\n",
    "        .format(\"kafka\") \\\n",
    "        .option(\"kafka.bootstrap.servers\", \"ed-kafka:29092\") \\\n",
    "        .option(\"topic\", \"aggregated_turnout_by_location\") \\\n",
    "        .option(\"checkpointLocation\", \"/app/checkpoints/checkpoint2\") \\\n",
    "        .outputMode(\"update\") \\\n",
    "        .start()"
   ]
  },
  {
   "cell_type": "code",
   "execution_count": 10,
   "id": "314e4b83-ca2b-4f99-ab60-8d44bea7ea58",
   "metadata": {},
   "outputs": [],
   "source": [
    "def write_to_postgres_location(batch_df, batch_id):\n",
    "        batch_df.write \\\n",
    "            .format(\"jdbc\") \\\n",
    "            .option(\"url\", \"jdbc:postgresql://ed-postgres:5432/voting_db\") \\\n",
    "            .option(\"dbtable\", \"turnout_by_location\") \\\n",
    "            .option(\"user\", \"postgres\") \\\n",
    "            .option(\"password\", \"postgres\") \\\n",
    "            .option(\"driver\", \"org.postgresql.Driver\") \\\n",
    "            .mode(\"overwrite\") \\\n",
    "            .save()\n",
    "\n",
    "turnout_by_location_to_postgres=turnout_by_location \\\n",
    "        .writeStream \\\n",
    "        .outputMode(\"update\") \\\n",
    "        .foreachBatch(write_to_postgres_location) \\\n",
    "        .option(\"checkpointLocation\", \"/app/checkpoints/postgres_votes_locations\") \\\n",
    "        .start()"
   ]
  },
  {
   "cell_type": "code",
   "execution_count": null,
   "id": "3a6c7d89-a7ec-4e31-9d0f-6b434c3c890b",
   "metadata": {},
   "outputs": [],
   "source": [
    " # Await termination for the streaming queries\n",
    "turnout_by_location_to_postgres.awaitTermination()\n",
    "votes_per_candidate_to_postgres.awaitTermination()\n",
    "votes_per_candidate_to_kafka.awaitTermination()\n",
    "turnout_by_location_to_kafka.awaitTermination()"
   ]
  },
  {
   "cell_type": "code",
   "execution_count": null,
   "id": "ba5e8284-ffd3-4ef6-aeaf-4d4de4399117",
   "metadata": {},
   "outputs": [],
   "source": []
  }
 ],
 "metadata": {
  "kernelspec": {
   "display_name": "Python 3 (ipykernel)",
   "language": "python",
   "name": "python3"
  },
  "language_info": {
   "codemirror_mode": {
    "name": "ipython",
    "version": 3
   },
   "file_extension": ".py",
   "mimetype": "text/x-python",
   "name": "python",
   "nbconvert_exporter": "python",
   "pygments_lexer": "ipython3",
   "version": "3.10.16"
  }
 },
 "nbformat": 4,
 "nbformat_minor": 5
}
